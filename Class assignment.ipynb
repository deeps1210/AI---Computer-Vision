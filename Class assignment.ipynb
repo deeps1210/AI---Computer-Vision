{
 "cells": [
  {
   "cell_type": "markdown",
   "metadata": {
    "ExecuteTime": {
     "end_time": "2019-10-20T13:01:53.387758Z",
     "start_time": "2019-10-20T13:01:53.378781Z"
    }
   },
   "source": [
    "# MultiInheritance"
   ]
  },
  {
   "cell_type": "code",
   "execution_count": 91,
   "metadata": {
    "ExecuteTime": {
     "end_time": "2019-10-20T18:46:14.041163Z",
     "start_time": "2019-10-20T18:46:14.024244Z"
    }
   },
   "outputs": [],
   "source": [
    "class bike:\n",
    "    def __init__(self,brand, model, make):\n",
    "        self.brand = brand\n",
    "        self.model = model\n",
    "        self.make = make\n",
    "    \n",
    "    def age(self,current_year):\n",
    "        return \"The bike %d years old\" %(current_year - self.make)\n",
    "    \n",
    "    def __str__(self):\n",
    "        return \"The bike is from %s and model is %s made in %d\" % (self.brand, self.model, self.make)\n",
    "\n",
    "class owner:\n",
    "    def __init__(self,name):\n",
    "        self.name = name\n",
    "        \n",
    "    def __str__(self):\n",
    "        return \"The owner of the bike is %s\" %(self.name)\n",
    "\n",
    "class competition:\n",
    "    def __init__(self,company):\n",
    "        self.company = company\n",
    "        \n",
    "    def __str__(self):\n",
    "        return \"The biggest rival is %s\" %(self.company)\n",
    "\n",
    "class sub_bike(bike,owner,competition):\n",
    "    def __init__(self,brand, model, make, name, company,number_plate):\n",
    "        self.number_plate = number_plate\n",
    "        bike.__init__(self,brand, model, make)\n",
    "        owner.__init__(self,name)\n",
    "        competition.__init__(self,company)\n",
    "        print(\"The number of the bike is %d. \\nThe bike is from %s and model is %s made in %d.\\nThe owner of bike is %s. \\nThe biggest rival is %s\" \n",
    "              % (self.number_plate,self.brand, self.model, self.make,self.name,self.company))"
   ]
  },
  {
   "cell_type": "code",
   "execution_count": 92,
   "metadata": {
    "ExecuteTime": {
     "end_time": "2019-10-20T18:46:15.913330Z",
     "start_time": "2019-10-20T18:46:15.908342Z"
    }
   },
   "outputs": [
    {
     "name": "stdout",
     "output_type": "stream",
     "text": [
      "The number of the bike is 1234. \n",
      "The bike is from Bajaj and model is Pulsar made in 2017.\n",
      "The owner of bike is Deepak. \n",
      "The biggest rival is Hero\n"
     ]
    }
   ],
   "source": [
    "test = sub_bike(\"Bajaj\",\"Pulsar\",2017, \"Deepak\",\"Hero\",1234)"
   ]
  },
  {
   "cell_type": "markdown",
   "metadata": {},
   "source": [
    "## Calling a method"
   ]
  },
  {
   "cell_type": "code",
   "execution_count": 93,
   "metadata": {
    "ExecuteTime": {
     "end_time": "2019-10-20T18:46:20.725318Z",
     "start_time": "2019-10-20T18:46:20.720332Z"
    }
   },
   "outputs": [
    {
     "name": "stdout",
     "output_type": "stream",
     "text": [
      "The bike 2 years old\n"
     ]
    }
   ],
   "source": [
    "print(test.age(2019))"
   ]
  },
  {
   "cell_type": "markdown",
   "metadata": {},
   "source": [
    "## Method resolution order"
   ]
  },
  {
   "cell_type": "code",
   "execution_count": 89,
   "metadata": {
    "ExecuteTime": {
     "end_time": "2019-10-20T18:17:49.384832Z",
     "start_time": "2019-10-20T18:17:49.369540Z"
    }
   },
   "outputs": [
    {
     "name": "stdout",
     "output_type": "stream",
     "text": [
      "Help on sub_bike in module __main__ object:\n",
      "\n",
      "class sub_bike(bike, owner, competition)\n",
      " |  Method resolution order:\n",
      " |      sub_bike\n",
      " |      bike\n",
      " |      owner\n",
      " |      competition\n",
      " |      builtins.object\n",
      " |  \n",
      " |  Methods defined here:\n",
      " |  \n",
      " |  __init__(self, brand, model, make, name, company, number_plate)\n",
      " |      Initialize self.  See help(type(self)) for accurate signature.\n",
      " |  \n",
      " |  ----------------------------------------------------------------------\n",
      " |  Methods inherited from bike:\n",
      " |  \n",
      " |  __str__(self)\n",
      " |      Return str(self).\n",
      " |  \n",
      " |  age(self, current_year)\n",
      " |  \n",
      " |  ----------------------------------------------------------------------\n",
      " |  Data descriptors inherited from bike:\n",
      " |  \n",
      " |  __dict__\n",
      " |      dictionary for instance variables (if defined)\n",
      " |  \n",
      " |  __weakref__\n",
      " |      list of weak references to the object (if defined)\n",
      "\n",
      "None\n"
     ]
    }
   ],
   "source": [
    "print(help(test))"
   ]
  },
  {
   "cell_type": "markdown",
   "metadata": {},
   "source": [
    "# MultiInheritance with Super()"
   ]
  },
  {
   "cell_type": "code",
   "execution_count": 114,
   "metadata": {
    "ExecuteTime": {
     "end_time": "2019-10-20T18:58:22.110250Z",
     "start_time": "2019-10-20T18:58:22.095266Z"
    }
   },
   "outputs": [],
   "source": [
    "class Phone:\n",
    "    def __init__(self,brand, model, price):\n",
    "        self.brand = brand\n",
    "        self.model = model\n",
    "        self.price = price\n",
    "        \n",
    "    def full_name(self):\n",
    "        return \"The phone is %s and the model is %s\" %(self.brand, self.model)\n",
    "    \n",
    "class SmartPhone(Phone):\n",
    "    \n",
    "    def __init__(self,brand, model, price, ram, internal_memory):\n",
    "        super().__init__(brand, model, price)\n",
    "        self.ram = ram\n",
    "        self.internal_memory = internal_memory\n",
    "        \n",
    "    def full_name(self):\n",
    "        return \"The phone is %s, model: %s. The price is %d\" %(self.brand, self.model, self.price)\n",
    "        \n",
    "class FlagshipPhone(SmartPhone):\n",
    "    \n",
    "    def __init__(self,brand, model, price, ram, internal_memory, rear_camera, front_camera):\n",
    "        super().__init__(brand, model, price,ram, internal_memory)\n",
    "        self.rear_camera = rear_camera\n",
    "        self.front_camera = front_camera\n",
    "    "
   ]
  },
  {
   "cell_type": "code",
   "execution_count": 123,
   "metadata": {
    "ExecuteTime": {
     "end_time": "2019-10-20T19:00:41.568198Z",
     "start_time": "2019-10-20T19:00:41.561641Z"
    }
   },
   "outputs": [],
   "source": [
    "phone = Phone(\"redmi\", \"note 5\",15000)\n",
    "redmi = SmartPhone(\"redmi\", \"note 6\",15000,\"6gb\", \"128gb\")\n",
    "super_phone = FlagshipPhone(\"redmi\", \"note 7 pro\",25000,\"6gb\", \"128gb\",\"20mp\",\"24mp\")"
   ]
  },
  {
   "cell_type": "code",
   "execution_count": 124,
   "metadata": {
    "ExecuteTime": {
     "end_time": "2019-10-20T19:00:42.105362Z",
     "start_time": "2019-10-20T19:00:42.098380Z"
    }
   },
   "outputs": [
    {
     "name": "stdout",
     "output_type": "stream",
     "text": [
      "The phone is redmi and the model is note 5\n"
     ]
    }
   ],
   "source": [
    "print(phone.full_name())"
   ]
  },
  {
   "cell_type": "code",
   "execution_count": 125,
   "metadata": {
    "ExecuteTime": {
     "end_time": "2019-10-20T19:00:43.519031Z",
     "start_time": "2019-10-20T19:00:43.514045Z"
    }
   },
   "outputs": [
    {
     "name": "stdout",
     "output_type": "stream",
     "text": [
      "The phone is redmi, model: note 6. The price is 15000\n"
     ]
    }
   ],
   "source": [
    "print(redmi.full_name())"
   ]
  },
  {
   "cell_type": "code",
   "execution_count": 126,
   "metadata": {
    "ExecuteTime": {
     "end_time": "2019-10-20T19:00:44.144022Z",
     "start_time": "2019-10-20T19:00:44.138039Z"
    }
   },
   "outputs": [
    {
     "name": "stdout",
     "output_type": "stream",
     "text": [
      "The phone is redmi, model: note 7 pro. The price is 25000\n"
     ]
    }
   ],
   "source": [
    "print(super_phone.full_name())"
   ]
  },
  {
   "cell_type": "code",
   "execution_count": null,
   "metadata": {},
   "outputs": [],
   "source": []
  }
 ],
 "metadata": {
  "kernelspec": {
   "display_name": "Python 3",
   "language": "python",
   "name": "python3"
  },
  "language_info": {
   "codemirror_mode": {
    "name": "ipython",
    "version": 3
   },
   "file_extension": ".py",
   "mimetype": "text/x-python",
   "name": "python",
   "nbconvert_exporter": "python",
   "pygments_lexer": "ipython3",
   "version": "3.6.9"
  },
  "toc": {
   "base_numbering": 1,
   "nav_menu": {},
   "number_sections": true,
   "sideBar": true,
   "skip_h1_title": false,
   "title_cell": "Table of Contents",
   "title_sidebar": "Contents",
   "toc_cell": false,
   "toc_position": {},
   "toc_section_display": true,
   "toc_window_display": true
  }
 },
 "nbformat": 4,
 "nbformat_minor": 2
}
